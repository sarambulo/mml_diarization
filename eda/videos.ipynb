{
 "cells": [
  {
   "cell_type": "code",
   "execution_count": 16,
   "metadata": {},
   "outputs": [],
   "source": [
    "from torchvision.io import VideoReader\n",
    "from pathlib import Path\n",
    "import itertools"
   ]
  },
  {
   "cell_type": "code",
   "execution_count": 17,
   "metadata": {},
   "outputs": [
    {
     "data": {
      "text/plain": [
       "{'video': {'fps': [29.97002997002997], 'duration': [112.5124]},\n",
       " 'audio': {'framerate': [44100.0], 'duration': [112.52390022675738]}}"
      ]
     },
     "execution_count": 17,
     "metadata": {},
     "output_type": "execute_result"
    }
   ],
   "source": [
    "video_filename = '../data/mp4/02904.mp4'\n",
    "stream_type = 'video'\n",
    "stream = VideoReader(video_filename, stream_type)\n",
    "stream.get_metadata()"
   ]
  },
  {
   "cell_type": "code",
   "execution_count": 18,
   "metadata": {},
   "outputs": [
    {
     "name": "stdout",
     "output_type": "stream",
     "text": [
      "torch.Size([3, 720, 1280])\n",
      "torch.Size([3, 720, 1280])\n",
      "torch.Size([3, 720, 1280])\n",
      "torch.Size([3, 720, 1280])\n",
      "torch.Size([3, 720, 1280])\n"
     ]
    }
   ],
   "source": [
    "stream.set_current_stream(\"video\")\n",
    "for frame in itertools.islice(stream, 5) :\n",
    "   print(frame['data'].shape)"
   ]
  },
  {
   "cell_type": "code",
   "execution_count": 19,
   "metadata": {},
   "outputs": [
    {
     "name": "stdout",
     "output_type": "stream",
     "text": [
      "torch.Size([1024, 2])\n",
      "torch.Size([1024, 2])\n",
      "torch.Size([1024, 2])\n",
      "torch.Size([1024, 2])\n",
      "torch.Size([1024, 2])\n"
     ]
    }
   ],
   "source": [
    "stream.set_current_stream(\"audio\")\n",
    "for frame in itertools.islice(stream, 5) :\n",
    "   print(frame['data'].shape)"
   ]
  }
 ],
 "metadata": {
  "kernelspec": {
   "display_name": "idl",
   "language": "python",
   "name": "python3"
  },
  "language_info": {
   "codemirror_mode": {
    "name": "ipython",
    "version": 3
   },
   "file_extension": ".py",
   "mimetype": "text/x-python",
   "name": "python",
   "nbconvert_exporter": "python",
   "pygments_lexer": "ipython3",
   "version": "3.12.8"
  }
 },
 "nbformat": 4,
 "nbformat_minor": 2
}
