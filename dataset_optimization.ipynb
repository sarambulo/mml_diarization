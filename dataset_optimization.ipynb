{
 "cells": [
  {
   "cell_type": "code",
   "execution_count": 1,
   "id": "390f48a6-eaeb-403f-9e92-9fc46131b824",
   "metadata": {},
   "outputs": [],
   "source": [
    "%load_ext autoreload\n",
    "%autoreload 2\n",
    "\n",
    "from datasets.MSDWild import MSDWildChunks\n",
    "from datasets.MSDWildOptimized import MSDWildChunksOptimized\n",
    "import time\n",
    "import os"
   ]
  },
  {
   "cell_type": "code",
   "execution_count": 2,
   "id": "f5ae64b6-1021-4537-80c1-0a8b2e1422b8",
   "metadata": {},
   "outputs": [],
   "source": [
    "S3_BUCKET_NAME = 'mmml-proj'\n",
    "S3_VIDEO_DIR = 'preprocessed'\n",
    "TRAIN_DATA_PATH = os.path.join(\"s3://\", S3_BUCKET_NAME, S3_VIDEO_DIR)\n",
    "TRAIN_RTTM_PATH = \"few.train.rttm\"\n",
    "SUBSET = 0.025"
   ]
  },
  {
   "cell_type": "code",
   "execution_count": null,
   "id": "adb3886d-bb1a-451a-9481-6e861a1720de",
   "metadata": {},
   "outputs": [
    {
     "name": "stdout",
     "output_type": "stream",
     "text": [
      "Directory has 523104 pairs\n"
     ]
    },
    {
     "name": "stderr",
     "output_type": "stream",
     "text": [
      "Loading Pair Metadata for Videos: 100%|██████████| 2476/2476 [02:44<00:00, 15.03it/s]\n"
     ]
    },
    {
     "name": "stdout",
     "output_type": "stream",
     "text": [
      "Loaded metadata for 1379378 pairs\n",
      "Reducing number of pairs from 523104 to 13077\n"
     ]
    },
    {
     "name": "stderr",
     "output_type": "stream",
     "text": [
      "Loading Triplet Files:  30%|██▉       | 3888/13077 [08:39<31:54:43, 12.50s/it]"
     ]
    }
   ],
   "source": [
    "# Est Time: 27.75 minutes\n",
    "start = time.time()\n",
    "dataset = MSDWildChunks(data_path=S3_VIDEO_DIR,\n",
    "                        data_bucket=S3_BUCKET_NAME,\n",
    "                        partition_path=TRAIN_RTTM_PATH,\n",
    "                        subset=SUBSET,\n",
    "                        refresh_fileset=False)\n",
    "end = time.time()\n",
    "execution_time_minutes = (end - start) / 60\n",
    "\n",
    "print(f\"Execution time: {execution_time_minutes:.2f} minutes\")"
   ]
  },
  {
   "cell_type": "code",
   "execution_count": null,
   "id": "221d0aac-f754-4a5f-8e18-7e6754503296",
   "metadata": {},
   "outputs": [],
   "source": []
  },
  {
   "cell_type": "code",
   "execution_count": null,
   "id": "a064efb1-1ab0-4183-88dc-a5db7262e52d",
   "metadata": {},
   "outputs": [],
   "source": [
    "start = time.time()\n",
    "dataset = MSDWildChunksOptimized(data_path=S3_VIDEO_DIR,\n",
    "                                 data_bucket=S3_BUCKET_NAME,\n",
    "                                 partition_path=TRAIN_RTTM_PATH,\n",
    "                                 subset=SUBSET,\n",
    "                                 refresh_fileset=False)\n",
    "end = time.time()\n",
    "execution_time_minutes = (end - start) / 60\n",
    "\n",
    "print(f\"Execution time: {execution_time_minutes:.2f} minutes\")"
   ]
  }
 ],
 "metadata": {
  "kernelspec": {
   "display_name": "Python 3 (ipykernel)",
   "language": "python",
   "name": "python3"
  },
  "language_info": {
   "codemirror_mode": {
    "name": "ipython",
    "version": 3
   },
   "file_extension": ".py",
   "mimetype": "text/x-python",
   "name": "python",
   "nbconvert_exporter": "python",
   "pygments_lexer": "ipython3",
   "version": "3.11.11"
  }
 },
 "nbformat": 4,
 "nbformat_minor": 5
}
